{
  "nbformat": 4,
  "nbformat_minor": 0,
  "metadata": {
    "orig_nbformat": 2,
    "deepnote_notebook_id": "66d78655-f453-4d60-8669-c1f19503d6ca",
    "deepnote_execution_queue": [],
    "colab": {
      "name": "01_inefficient.ipynb",
      "provenance": []
    },
    "kernelspec": {
      "name": "python3",
      "display_name": "Python 3"
    }
  },
  "cells": [
    {
      "cell_type": "markdown",
      "metadata": {
        "tags": [],
        "id": "GFNHCNaa7hoD"
      },
      "source": [
        "**Representing** words & numbers\n"
      ]
    },
    {
      "cell_type": "code",
      "metadata": {
        "tags": [],
        "output_cleared": false,
        "source_hash": "a45df8bc",
        "execution_millis": 668,
        "execution_start": 1603584265309,
        "id": "fljRUYmG7hoF"
      },
      "source": [
        "import string\n",
        "from collections import Counter\n",
        "from pprint import pprint\n",
        "import gzip\n",
        "import matplotlib.pyplot as plt\n",
        "import numpy as np \n",
        "% matplotlib inline"
      ],
      "execution_count": 1,
      "outputs": []
    },
    {
      "cell_type": "code",
      "metadata": {
        "tags": [],
        "output_cleared": false,
        "source_hash": "60de3b07",
        "execution_millis": 2,
        "execution_start": 1603584592441,
        "id": "KGsAdCbR7hoL"
      },
      "source": [
        "long_text = \"\"\"It was the best of times, it was the worst of times, it was the age of wisdom, it was the age of foolishness, it was the epoch of belief, it was the epoch of incredulity, it was the season of Light, it was the season of Darkness, it was the spring of hope, it was the winter of despair, we had everything before us, we had nothing before us, we were all going direct to Heaven, we were all going direct the other way – in short, the period was so far like the present period, that some of its noisiest authorities insisted on its being received, for good or for evil, in the superlative degree of comparison only.\"\"\"\n",
        "short_text = \"\"\"In fairy-tales, witches always wear silly black hats and black coats, and they ride on broomsticks. But this is not a fairy-tale. This is about REAL WITCHES.\"\"\"\n",
        "text = short_text"
      ],
      "execution_count": 2,
      "outputs": []
    },
    {
      "cell_type": "markdown",
      "metadata": {
        "tags": [],
        "id": "3tJVllsO7hoO"
      },
      "source": [
        "## Tokenization"
      ]
    },
    {
      "cell_type": "code",
      "metadata": {
        "tags": [],
        "output_cleared": false,
        "source_hash": "dc0df4a6",
        "execution_millis": 1,
        "execution_start": 1603584593689,
        "id": "wlDen1s27hoO"
      },
      "source": [
        "def extract_words(text):\n",
        "    temp = text.split()\n",
        "    text_words = []\n",
        "\n",
        "    for word in temp:\n",
        "        # remove punctuation at beginning of word\n",
        "        while word[0] in string.punctuation:\n",
        "            word = word[1:]\n",
        "\n",
        "        # remove punctuation at end of word\n",
        "        while word[-1] in string.punctuation:\n",
        "            word = word[:-1]\n",
        "\n",
        "        # Append this word into our list of words\n",
        "        text_words.append(word.lower())\n",
        "\n",
        "    return text_words"
      ],
      "execution_count": 3,
      "outputs": []
    },
    {
      "cell_type": "code",
      "metadata": {
        "tags": [],
        "output_cleared": false,
        "source_hash": "ea3be4d3",
        "execution_millis": 3,
        "execution_start": 1603584595683,
        "id": "Bj7D65WP7hoR",
        "outputId": "02cd6f0c-d619-4dda-fc9a-469ea7675726",
        "colab": {
          "base_uri": "https://localhost:8080/"
        }
      },
      "source": [
        "text_words = extract_words(text)\n",
        "print(text_words)"
      ],
      "execution_count": 4,
      "outputs": [
        {
          "output_type": "stream",
          "text": [
            "['in', 'fairy-tales', 'witches', 'always', 'wear', 'silly', 'black', 'hats', 'and', 'black', 'coats', 'and', 'they', 'ride', 'on', 'broomsticks', 'but', 'this', 'is', 'not', 'a', 'fairy-tale', 'this', 'is', 'about', 'real', 'witches']\n"
          ],
          "name": "stdout"
        }
      ]
    },
    {
      "cell_type": "markdown",
      "metadata": {
        "tags": [],
        "id": "FIgAueQk7hoT"
      },
      "source": [
        "Wasteful way -- instead assign numbers to each word:"
      ]
    },
    {
      "cell_type": "code",
      "metadata": {
        "tags": [],
        "output_cleared": false,
        "source_hash": "52c2a925",
        "execution_millis": 3,
        "execution_start": 1603584606565,
        "id": "ITh5DJ317hoU"
      },
      "source": [
        "word_dict = {}\n",
        "word_list = []\n",
        "vocabulary_size = 0\n",
        "text_tokens = []\n",
        "\n",
        "for word in text_words:\n",
        "    # create an ID for words seen for the first time & add to dictionary\n",
        "    if word not in word_dict:\n",
        "        word_dict[word] = vocabulary_size\n",
        "        word_list.append(word)\n",
        "        vocabulary_size += 1\n",
        "\n",
        "    # add the token corresponding to the current word to the tokenized text.\n",
        "    text_tokens.append(word_dict[word])"
      ],
      "execution_count": 5,
      "outputs": []
    },
    {
      "cell_type": "code",
      "metadata": {
        "tags": [],
        "output_cleared": false,
        "source_hash": "34ea0828",
        "execution_millis": 12,
        "execution_start": 1603584607171,
        "id": "GcWaKMbY7hoX",
        "outputId": "7b963281-1bff-4e2d-d754-2224923de7c8",
        "colab": {
          "base_uri": "https://localhost:8080/"
        }
      },
      "source": [
        "print(\"Word list:\", word_list, \"\\n\\n Word dictionary\")\n",
        "pprint(word_dict)"
      ],
      "execution_count": 6,
      "outputs": [
        {
          "output_type": "stream",
          "text": [
            "Word list: ['in', 'fairy-tales', 'witches', 'always', 'wear', 'silly', 'black', 'hats', 'and', 'coats', 'they', 'ride', 'on', 'broomsticks', 'but', 'this', 'is', 'not', 'a', 'fairy-tale', 'about', 'real'] \n",
            "\n",
            " Word dictionary\n",
            "{'a': 18,\n",
            " 'about': 20,\n",
            " 'always': 3,\n",
            " 'and': 8,\n",
            " 'black': 6,\n",
            " 'broomsticks': 13,\n",
            " 'but': 14,\n",
            " 'coats': 9,\n",
            " 'fairy-tale': 19,\n",
            " 'fairy-tales': 1,\n",
            " 'hats': 7,\n",
            " 'in': 0,\n",
            " 'is': 16,\n",
            " 'not': 17,\n",
            " 'on': 12,\n",
            " 'real': 21,\n",
            " 'ride': 11,\n",
            " 'silly': 5,\n",
            " 'they': 10,\n",
            " 'this': 15,\n",
            " 'wear': 4,\n",
            " 'witches': 2}\n"
          ],
          "name": "stdout"
        }
      ]
    },
    {
      "cell_type": "code",
      "metadata": {
        "tags": [],
        "output_cleared": false,
        "source_hash": "4f6f3b19",
        "execution_start": 1603584664464,
        "execution_millis": 9,
        "id": "7N--gIfW7hoa",
        "outputId": "2a0df5d4-2745-4c60-eec7-cdba66cb14ae",
        "colab": {
          "base_uri": "https://localhost:8080/"
        }
      },
      "source": [
        "print(text_tokens)"
      ],
      "execution_count": 7,
      "outputs": [
        {
          "output_type": "stream",
          "text": [
            "[0, 1, 2, 3, 4, 5, 6, 7, 8, 6, 9, 8, 10, 11, 12, 13, 14, 15, 16, 17, 18, 19, 15, 16, 20, 21, 2]\n"
          ],
          "name": "stdout"
        }
      ]
    },
    {
      "cell_type": "markdown",
      "metadata": {
        "tags": [],
        "id": "AMVWm1MK7hod"
      },
      "source": [
        "## One Hot Encoding\n",
        "\n",
        "* More efficient way to represent vectors. \n",
        "* Column feature vector: Defines a high dimensional space, each dimension represents a word\n",
        "* Each element is zero in this vector, except the element corresponding to the dimension representing the word\n",
        "* For _full-texts_ instead of words, the vector representation of the text is simply the vector sum of all the words it contains:\n",
        "\n"
      ]
    },
    {
      "cell_type": "code",
      "metadata": {
        "tags": [],
        "output_cleared": false,
        "source_hash": "443579d8",
        "execution_start": 1603594823770,
        "id": "6k3EncFh7hoe"
      },
      "source": [
        "import re\n",
        "text = \"\"\"\n",
        "Mary had a little lamb, little lamb,\n",
        "little lamb, Mary had a little lamb\n",
        "whose fleece was white as snow. \n",
        "And everywhere that Mary went\n",
        "Mary went, Mary went, everywhere \n",
        "that Mary went\n",
        "the lamb was sure to go\n",
        "\"\"\""
      ],
      "execution_count": 10,
      "outputs": []
    },
    {
      "cell_type": "code",
      "metadata": {
        "tags": [],
        "output_cleared": false,
        "source_hash": "ea886b5a",
        "execution_millis": 2,
        "execution_start": 1603595221022,
        "id": "Lp7LA6617hoh"
      },
      "source": [
        "text = re.sub(r'[^\\w\\s]', '', text) \n",
        "word_list = text.lower().split()"
      ],
      "execution_count": 11,
      "outputs": []
    },
    {
      "cell_type": "code",
      "metadata": {
        "tags": [],
        "output_cleared": false,
        "source_hash": "4a957f7",
        "execution_millis": 2,
        "execution_start": 1603595287689,
        "id": "Xqey9aJc7hoj"
      },
      "source": [
        "word_dict = {}\n",
        "for word in word_list:\n",
        "    if not word in word_dict.keys():\n",
        "        word_dict[word] = 1\n",
        "    else:\n",
        "        word_dict[word] += 1"
      ],
      "execution_count": 12,
      "outputs": []
    },
    {
      "cell_type": "code",
      "metadata": {
        "tags": [],
        "output_cleared": false,
        "source_hash": "6be3920c",
        "execution_start": 1603595426186,
        "execution_millis": 6,
        "id": "ldlsFONL7hom"
      },
      "source": [
        "def one_hot(word, word_dict):\n",
        "    \"\"\"\n",
        "    Generate a one-hot encoded vector for \"word\"\n",
        "    \"\"\"\n",
        "\n",
        "    vector = np.zeros(len(word_dict))\n",
        "    vector[word_dict[word]] = 1\n",
        "    return vector\n",
        "\n",
        "    "
      ],
      "execution_count": 13,
      "outputs": []
    },
    {
      "cell_type": "code",
      "metadata": {
        "tags": [],
        "output_cleared": false,
        "source_hash": "6911aa75",
        "execution_millis": 1,
        "execution_start": 1603596226977,
        "id": "D4Bjlp4h7hop",
        "outputId": "7c720493-d482-44ef-ab76-88da3d30fdee",
        "colab": {
          "base_uri": "https://localhost:8080/"
        }
      },
      "source": [
        "fleece_hot = one_hot('fleece', word_dict)\n",
        "print(fleece_hot)"
      ],
      "execution_count": 14,
      "outputs": [
        {
          "output_type": "stream",
          "text": [
            "[0. 1. 0. 0. 0. 0. 0. 0. 0. 0. 0. 0. 0. 0. 0. 0. 0. 0. 0.]\n"
          ],
          "name": "stdout"
        }
      ]
    },
    {
      "cell_type": "code",
      "metadata": {
        "tags": [],
        "output_cleared": false,
        "source_hash": "2b482a4e",
        "execution_millis": 1,
        "execution_start": 1603597039485,
        "id": "3Udez54W7hov",
        "outputId": "f6d21de3-8db2-4180-92e1-3ef8dfd50653",
        "colab": {
          "base_uri": "https://localhost:8080/"
        }
      },
      "source": [
        "mary_hot = one_hot('mary', word_dict)\n",
        "print(mary_hot)"
      ],
      "execution_count": 15,
      "outputs": [
        {
          "output_type": "stream",
          "text": [
            "[0. 0. 0. 0. 0. 0. 1. 0. 0. 0. 0. 0. 0. 0. 0. 0. 0. 0. 0.]\n"
          ],
          "name": "stdout"
        }
      ]
    },
    {
      "cell_type": "code",
      "metadata": {
        "tags": [],
        "output_cleared": false,
        "source_hash": "44ce6447",
        "execution_millis": 12,
        "execution_start": 1603597168124,
        "id": "UYZvJ0Fr7ho0",
        "outputId": "fc2901ed-4629-4197-ef36-33ebc4192aa4",
        "colab": {
          "base_uri": "https://localhost:8080/"
        }
      },
      "source": [
        "mary_hot[6] == 1"
      ],
      "execution_count": 16,
      "outputs": [
        {
          "output_type": "execute_result",
          "data": {
            "text/plain": [
              "True"
            ]
          },
          "metadata": {
            "tags": []
          },
          "execution_count": 16
        }
      ]
    },
    {
      "cell_type": "code",
      "metadata": {
        "tags": [],
        "id": "Nq-Ulg3n7ho4"
      },
      "source": [
        ""
      ],
      "execution_count": null,
      "outputs": []
    }
  ]
}